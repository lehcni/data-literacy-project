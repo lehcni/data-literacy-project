{
 "cells": [
  {
   "cell_type": "markdown",
   "metadata": {},
   "source": [
    "# Data Literacy\n",
    "#### University of Tübingen, Winter Term 2021/22\n",
    "## Exercise Sheet 1\n",
    "&copy; 2021 Prof. Dr. Philipp Hennig & Jonathan Wenger\n",
    "\n",
    "This sheet is **due on Monday, October 25, 2021 at 12noon sharp (i.e. before the start of the lecture).**\n",
    "\n",
    "---\n",
    "\n",
    "## Data Manipulation and Visualization\n",
    "\n",
    "This first coding exercise will introduce you to some basic concepts of working with data. As a use case we will consider statistics of the ongoing COVID-19 pandemic from two different sources. You will download the data, extract and pre-process the subset we are interested in for downstream analysis and generate some basic visualizations. These will also answer some initial questions you might have about the data and generate new questions regarding estimation of the latent number of infections, the spread of the virus and its mortality.\n",
    "\n",
    "The tasks will primarily serve as an introduction to `pandas`, a Python tool for data manipulation and basic analysis and `matplotlib` a framework for plotting.\n",
    "\n",
    "<img src=\"https://blog.dask.org/images/split-apply-combine.png\" alt=\"split-apply-combine\" style=\"width: 600px;\"/>\n",
    "\n",
    "### Initial Setup\n",
    "\n",
    "For these homework exercises we expect basic familiarity with Python 3. If you are new to Python there are countless tutorials on the internet, e.g. https://realpython.com/python-first-steps/. As a reference for `pandas` functionality consult the [documentation](https://pandas.pydata.org/docs/).\n",
    "\n",
    "**Task:** Install the packages `matplotlib`, `numpy` and `pandas` and make sure the cell below executes without errors."
   ]
  },
  {
   "cell_type": "code",
   "execution_count": 1,
   "metadata": {},
   "outputs": [],
   "source": [
    "# Make inline plots vector graphics\n",
    "%matplotlib inline\n",
    "from IPython.display import set_matplotlib_formats\n",
    "\n",
    "set_matplotlib_formats(\"pdf\", \"svg\")\n",
    "\n",
    "# Plotting setup\n",
    "import matplotlib.pyplot as plt\n",
    "import datetime\n",
    "\n",
    "# Package imports\n",
    "import numpy as np\n",
    "import pandas as pd\n",
    "import ssl\n",
    "ssl._create_default_https_context = ssl._create_unverified_context"
   ]
  },
  {
   "cell_type": "markdown",
   "metadata": {},
   "source": [
    "### German COVID-19 Data\n",
    "\n",
    "We begin by downloading the COVID-19 data for Germany from the [Robert Koch Institute](https://www.rki.de/).\n",
    "\n",
    "**Task:** Download the CSV data from the given URL using `pandas` and inspect a few rows from it."
   ]
  },
  {
   "cell_type": "code",
   "execution_count": 2,
   "metadata": {},
   "outputs": [],
   "source": [
    "# Link to current data of the RKI\n",
    "url = \"http://www.arcgis.com/sharing/rest/content/items/f10774f1c63e40168479a1feb6c7ca74/data\"\n",
    "\n",
    "# Read CSV data from URL\n",
    "data_rki = None # TODO\n",
    "\n",
    "# Inspect first few rows of the data\n"
   ]
  },
  {
   "cell_type": "markdown",
   "metadata": {},
   "source": [
    "**Task:** Based on the shortened description of the data below, compute the cumulative number of cases both in Germany and in Tübingen as of today. Check the RKI dashboard to verify your result.\n",
    "\n",
    "> #### Data Description of the RKI Covid-19-Dashboard (https://corona.rki.de)\n",
    ">\n",
    "> The data has the following features:\n",
    "> - ...\n",
    "> - Landkreis: Name of the county\n",
    "> - ...\n",
    "> - AnzahlFall: Number of cases in the respective population group.\n",
    "> - ...\n",
    "> - NeuerFall:\n",
    ">    - 0: Case is contained in the data of today and the previous day\n",
    ">    - 1: Case is only contained in today's data\n",
    ">    - -1: Case is only contained in the previous day's data\n",
    "\n",
    "Source (in German): https://www.arcgis.com/home/item.html?id=f10774f1c63e40168479a1feb6c7ca74"
   ]
  },
  {
   "cell_type": "code",
   "execution_count": null,
   "metadata": {},
   "outputs": [],
   "source": [
    "# Compute the cumulative number of cases\n",
    "cases_germany = None # TODO\n",
    "print(f\"Total confirmed cases of COVID-19 in Germany: \\t{cases_germany:,}\")\n",
    "\n",
    "# Compute the cumulative number of cases in Tübingen\n",
    "cases_tuebingen = None # TODO\n",
    "print(f\"Total confirmed cases of COVID-19 in Tübingen: \\t{cases_tuebingen:,}\")"
   ]
  },
  {
   "cell_type": "markdown",
   "metadata": {},
   "source": [
    "### Incidence Trend\n",
    "\n",
    "As we recently entered the second lockdown, the main concern over the coming days is whether, and how much the incidence rates are dropping again. \n",
    "\n",
    "**Task:** Create three plots of the difference between the number of new cases on any given day and the day directly preceding it normalized by the population size for Germany, Baden-Württemberg and Tübingen. Can you make out a trend already?"
   ]
  },
  {
   "cell_type": "code",
   "execution_count": null,
   "metadata": {
    "scrolled": true
   },
   "outputs": [],
   "source": [
    "# Population sizes\n",
    "population_sizes = {\"Germany\": 83783942,\n",
    "                   \"Baden-Württemberg\": 11023424,\n",
    "                   \"Tübingen\": 228678}\n",
    "\n",
    "# Germany\n",
    "\n",
    "# Baden Württemberg\n",
    "\n",
    "# Tübingen\n"
   ]
  },
  {
   "cell_type": "code",
   "execution_count": null,
   "metadata": {
    "scrolled": true
   },
   "outputs": [],
   "source": [
    "import matplotlib.dates as mdates\n",
    "\n",
    "# Plot timeseries\n",
    "fig, axs = plt.subplots(1, 3, figsize=(10, 3.5), sharey=False)\n"
   ]
  },
  {
   "cell_type": "markdown",
   "metadata": {},
   "source": [
    "### Estimating the Basic Reproduction Number $R_0$\n",
    "\n",
    "Next, we will compute a rough estimate of the _basic reproduction number_ $R_0$ of COVID-19. The reproduction number is used to measure the transmission potential of a disease and constitutes the average number of infections caused by a typical case in a completely susceptible population.\n",
    "\n",
    "[^1]: https://www.healthknowledge.org.uk/public-health-textbook/research-methods/1a-epidemiology/epidemic-theory\n",
    "\n",
    "**Task:** Compute and plot a running estimate of the basic reproduction number by computing the ratio between the number of new infections in the last four days and the number of new infections in the four days before that. What can you say about the estimate of the reproduction rate for the current day and over time? If you had to make policy decisions based on this estimate, what would your response be?\n",
    "\n",
    "*Hint:* To help illustrate your answer to the last two questions, you can use the `datetime` format and `matplotlib` to draw vertical lines on specific dates.\n",
    "\n",
    "Source $R_0$ estimation: https://www.rki.de/DE/Content/Infekt/EpidBull/Archiv/2020/Ausgaben/17_20.pdf?__blob=publicationFile"
   ]
  },
  {
   "cell_type": "code",
   "execution_count": null,
   "metadata": {},
   "outputs": [],
   "source": [
    "# Create dataframe of number of new cases\n",
    "data_rki_cases = None # TODO\n",
    "\n",
    "# Compute number of new cases in last four days and in four days prior to that\n",
    "\n",
    "# Estimate the basic reproduction number R0\n",
    "\n",
    "# Show data from the previous week\n"
   ]
  },
  {
   "cell_type": "code",
   "execution_count": null,
   "metadata": {},
   "outputs": [],
   "source": [
    "# Plot reproduction rate\n"
   ]
  },
  {
   "cell_type": "markdown",
   "metadata": {},
   "source": [
    "### Global COVID-19 Data\n",
    "\n",
    "Next, we will take a look at the global case numbers for the corona virus from [OurWorldInData.org](https://ourworldindata.org/coronavirus-testing).\n",
    "\n",
    "**Task:** Download the CSV data from the given URL and parse the `date` column into `datetime` format of the form `2021-11-01`. Why is it important to have a dedicated format for dates instead of just a string representation?"
   ]
  },
  {
   "cell_type": "code",
   "execution_count": null,
   "metadata": {
    "scrolled": true
   },
   "outputs": [],
   "source": [
    "# Link to world-wide COVID data\n",
    "url = \"https://covid.ourworldindata.org/data/owid-covid-data.csv\"\n",
    "\n",
    "# Read CSV data from URL\n",
    "data_owid = None\n",
    "\n",
    "# Parse data\n",
    "\n",
    "# Inspect dataframe and datatypes\n"
   ]
  },
  {
   "cell_type": "markdown",
   "metadata": {},
   "source": [
    "**Task:** Subset the world-wide data with the countries of interest and create a new dataframe with seven columns, namely `iso_code`, `date`, `new_cases`, `new_cases_per_million`, `new_cases_smoothed_per_million`, a newly computed `case_fatality_rate` and the `positive_rate`.\n",
    "\n",
    "*Hint:* The case fatality rate (CFR) is defined as the fraction of deaths and cases."
   ]
  },
  {
   "cell_type": "code",
   "execution_count": null,
   "metadata": {},
   "outputs": [],
   "source": [
    "# Countries of interest (CoIs)\n",
    "cois = [\"DEU\", \"GBR\", \"USA\", \"FRA\", \"NLD\"]\n",
    "\n",
    "# Subset worldwide data with CoIs\n",
    "\n",
    "# Create CFR column\n",
    "\n",
    "# Remove unnecessary columns\n"
   ]
  },
  {
   "cell_type": "code",
   "execution_count": null,
   "metadata": {
    "scrolled": true
   },
   "outputs": [],
   "source": [
    "data_owid.head()"
   ]
  },
  {
   "cell_type": "markdown",
   "metadata": {},
   "source": [
    "### Pandemic Severity across Countries"
   ]
  },
  {
   "cell_type": "markdown",
   "metadata": {},
   "source": [
    "**Task:** From the world-wide data generate timeseries plots showing new cases per million inhabitants (both raw and smoothed), the computed case fatality rate, and the rate of positive tests. Use log-axes where appropriate and make sure your plots are legible and have properly formatted dates! \n",
    " \n",
    "How do you explain the falling case fatality rate and the increasing positive rate over time? Which country fares the best in terms of the pandemic, which the worst?"
   ]
  },
  {
   "cell_type": "code",
   "execution_count": null,
   "metadata": {},
   "outputs": [],
   "source": [
    "fig, axs = plt.subplots(1, 3, figsize=(10, 3.5))\n",
    "\n",
    "# Plotting colors\n",
    "colors = dict(zip(cois, [\"C0\", \"C1\", \"C2\", \"C3\", \"C4\"]))\n",
    "\n",
    "# New Cases:\n",
    "\n",
    "# Case fatality rate\n",
    "\n",
    "# Rate of positive tests\n",
    "\n",
    "# Date formatting\n"
   ]
  }
 ],
 "metadata": {
  "kernelspec": {
   "display_name": "Python 3",
   "language": "python",
   "name": "python3"
  },
  "language_info": {
   "codemirror_mode": {
    "name": "ipython",
    "version": 3
   },
   "file_extension": ".py",
   "mimetype": "text/x-python",
   "name": "python",
   "nbconvert_exporter": "python",
   "pygments_lexer": "ipython3",
   "version": "3.8.5"
  }
 },
 "nbformat": 4,
 "nbformat_minor": 4
}
