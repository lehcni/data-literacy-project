{
 "cells": [
  {
   "cell_type": "markdown",
   "metadata": {},
   "source": [
    "# Data Literacy\n",
    "#### University of Tübingen, Winter Term 2021/22\n",
    "## Exercise Sheet 2\n",
    "&copy; 2021 Prof. Dr. Philipp Hennig & Jonathan Wenger\n",
    "\n",
    "This sheet is **due on Monday, November 8, 2021 at 10am sharp (i.e. before the start of the lecture).**\n",
    "\n",
    "---\n",
    "\n",
    "## Randomized Testing\n",
    "\n",
    "In this week we will take a shallow dive into experimental design. We will work with the data obtained from the RKI about COVID-19 infections in Germany again. Our aim will be to design a randomized study to determine the rate of COVID-19 cases in Germany. "
   ]
  },
  {
   "cell_type": "code",
   "execution_count": null,
   "metadata": {},
   "outputs": [],
   "source": [
    "# Make inline plots vector graphics\n",
    "%matplotlib inline\n",
    "from IPython.display import set_matplotlib_formats\n",
    "set_matplotlib_formats(\"pdf\", \"svg\")\n",
    "\n",
    "# Plotting setup\n",
    "import matplotlib.pyplot as plt\n",
    "\n",
    "# Package imports\n",
    "import numpy as np\n",
    "import pandas as pd\n",
    "import ssl\n",
    "ssl._create_default_https_context = ssl._create_unverified_context\n",
    "import geopandas"
   ]
  },
  {
   "cell_type": "markdown",
   "metadata": {},
   "source": [
    "### COVID-19: Relative Incidence in Germany\n",
    "\n",
    "We will begin by computing the relative incidence (new cases normalized by population size) on a county (Landkreis) level for Germany.\n",
    "\n",
    "**Task:** Load the most recent data from the RKI and find the cumulative cases per county (Landkreis) over time.\n",
    "\n",
    "> #### Data Description of the RKI Covid-19-Dashboard (https://corona.rki.de)\n",
    ">\n",
    "> The data has the following features:\n",
    "> - ...\n",
    "> - Landkreis: Name of the county\n",
    "> - ...\n",
    "> - AnzahlFall: Number of cases in the respective population group.\n",
    "> - ...\n",
    "> - NeuerFall:\n",
    ">    - 0: Case is contained in the data of today and the previous day\n",
    ">    - 1: Case is only contained in today's data\n",
    ">    - -1: Case is only contained in the previous day's data\n",
    "\n",
    "Source (in German): https://www.arcgis.com/home/item.html?id=f10774f1c63e40168479a1feb6c7ca74"
   ]
  },
  {
   "cell_type": "code",
   "execution_count": null,
   "metadata": {},
   "outputs": [],
   "source": [
    "# Link to current data of the RKI\n",
    "url = \"https://www.arcgis.com/sharing/rest/content/items/f10774f1c63e40168479a1feb6c7ca74/data\"\n",
    "\n",
    "# Read CSV data from URL\n",
    "data_rki = pd.read_csv(url)"
   ]
  },
  {
   "cell_type": "code",
   "execution_count": null,
   "metadata": {},
   "outputs": [],
   "source": [
    "# Create new dataframe and sort by date"
   ]
  },
  {
   "cell_type": "code",
   "execution_count": null,
   "metadata": {},
   "outputs": [],
   "source": [
    "# Cumulative case numbers over time"
   ]
  },
  {
   "cell_type": "markdown",
   "metadata": {},
   "source": [
    "Our aim is to visualize the relative incidence as a colored map of Germany. For this we will use the package `geopandas`.\n",
    "\n",
    "**Task:** Load the provided shapefile `data/Kreisgrenzen_2017_mit_Einwohnerzahl.shp`. Geopandas will return a dataframe that contains population numbers (\"EWZ\") and a column called \"geometry\" which defines the polygons making up the map of counties."
   ]
  },
  {
   "cell_type": "code",
   "execution_count": null,
   "metadata": {
    "scrolled": false
   },
   "outputs": [],
   "source": [
    "import geopandas\n",
    "\n",
    "# Geometric data and population numbers\n",
    "germany_geo_df = geopandas.read_file(\"data/Kreisgrenzen_2017_mit_Einwohnerzahl.shp\")\n",
    "germany_geo_df.head()"
   ]
  },
  {
   "cell_type": "code",
   "execution_count": null,
   "metadata": {},
   "outputs": [],
   "source": [
    "# County IDs not in geometric data\n",
    "county_ids_rki = data_rki.IdLandkreis.unique()\n",
    "county_ids_geo = germany_geo_df.Kennziffer.unique()\n",
    "\n",
    "# Find IDs only in one of the two county ID sets\n",
    "unmatched_ids = np.setxor1d(county_ids_rki, county_ids_geo)\n",
    "print(f\"County IDs with non-matching IDs: \\n{unmatched_ids}\")\n",
    "print(\n",
    "    f\"Counties with non-matching IDS: \\n{data_rki[data_rki.IdLandkreis.isin(unmatched_ids)].Landkreis.unique()}\"\n",
    ")"
   ]
  },
  {
   "cell_type": "code",
   "execution_count": null,
   "metadata": {
    "scrolled": true
   },
   "outputs": [],
   "source": [
    "# Aggregate data in Berlin in temporary data frame\n",
    "data_rki_berlin = (\n",
    "    data_rki_cases[data_rki_cases.id_county.isin(unmatched_ids)].groupby([\"date\"]).sum()\n",
    ").reset_index()\n",
    "data_rki_berlin.loc[:, \"id_county\"] = 11000\n",
    "data_rki_berlin.loc[:, \"name_county\"] = \"Berlin\""
   ]
  },
  {
   "cell_type": "code",
   "execution_count": null,
   "metadata": {},
   "outputs": [],
   "source": [
    "data_rki_berlin"
   ]
  },
  {
   "cell_type": "code",
   "execution_count": null,
   "metadata": {},
   "outputs": [],
   "source": [
    "# Drop Berlin rows from RKI data and append merged case numbers\n",
    "data_rki_cases.drop(\n",
    "    data_rki_cases.index[np.where(data_rki_cases.id_county.isin(unmatched_ids))[0]],\n",
    "    inplace=True,\n",
    ")\n",
    "data_rki_cases = data_rki_cases.append(data_rki_berlin)"
   ]
  },
  {
   "cell_type": "markdown",
   "metadata": {},
   "source": [
    "**Task:** Create a joint dataframe with an additional column that contains the relative incidences (new cases of COVID-19 divided by county population). What are the five top and bottom counties in terms of relative incidence for the current day?"
   ]
  },
  {
   "cell_type": "code",
   "execution_count": null,
   "metadata": {
    "scrolled": true
   },
   "outputs": [],
   "source": [
    "# Merge into single data frame\n"
   ]
  },
  {
   "cell_type": "code",
   "execution_count": null,
   "metadata": {
    "scrolled": true
   },
   "outputs": [],
   "source": [
    "# Compute relative incidence\n",
    "\n",
    "# Compute relative cumulative case numbers\n"
   ]
  },
  {
   "cell_type": "code",
   "execution_count": null,
   "metadata": {
    "scrolled": false
   },
   "outputs": [],
   "source": [
    "# Case numbers for most recent date with >0 new cases\n",
    "\n",
    "\n",
    "# Top and bottom 5 counties in terms of relative cumulative incidence for today\n"
   ]
  },
  {
   "cell_type": "markdown",
   "metadata": {},
   "source": [
    "**Task:** Using `geopandas` and the created dataframe plot Germany's counties and their current relative incidence color-coded. Where is the relative incidence currently highest? What might be the causes for this result? What type of colormap is appropriate for this visualization and why?\n",
    "\n",
    "*Hint:* To use the native plotting functionality of `geopandas` convert the data frame you just created into a `GeoDataFrame`."
   ]
  },
  {
   "cell_type": "code",
   "execution_count": null,
   "metadata": {},
   "outputs": [],
   "source": [
    "# Plot map\n"
   ]
  },
  {
   "cell_type": "markdown",
   "metadata": {},
   "source": [
    "### Designing a Testing Strategy\n",
    "\n",
    "Suppose you are in charge of estimating the relative incidence in Germany on a national level. Let's say you have a certain varying budget of tests to distribute each day. However, you do _not_ know the total number of tests available at the start of the day. Instead as the day progresses you are informed about new test capacities in batches of tests. You have to distribute this testing capacity immediately as it becomes available. To do so, after receiving a new batch of tests you can ask a designated contact in any county to test a certain number of randomly selected people in that county. \n",
    "\n",
    "How would you distribute the tests arriving in batches to estimate the relative incidence in Germany without introducing (sampling) bias?"
   ]
  },
  {
   "cell_type": "markdown",
   "metadata": {},
   "source": [
    "**Task:** Implement an algorithm to sample from a categorical distribution over arbitrary categories given a vector of probability weights and a function returning uniform random samples on the unit interval. That is, an algorithm which draws with replacement from a fixed number of categories according to a set of weights.\n",
    "\n",
    "*Note:* Any other sampling functionality from `numpy` or `scipy` beyond `np.random.uniform` should not be used!"
   ]
  },
  {
   "cell_type": "code",
   "execution_count": null,
   "metadata": {},
   "outputs": [],
   "source": [
    "def sample_categorical(categ, p, size=()):\n",
    "    \"\"\"\n",
    "    Sample from a categorical distribution.\n",
    "\n",
    "    Parameters\n",
    "    ----------\n",
    "    categ : array-like, shape=(n,)\n",
    "        Categories to sample from.\n",
    "    p : array-like, shape=(n,)\n",
    "        Probability weights of drawing from the different categories.\n",
    "    size : tuple\n",
    "        Size of the sample.\n",
    "    \"\"\"\n",
    "    raise NotImplementedError # TODO"
   ]
  },
  {
   "cell_type": "code",
   "execution_count": null,
   "metadata": {
    "scrolled": true
   },
   "outputs": [],
   "source": [
    "sample_categorical(categ=[\"a\", \"b\", \"c\"], p = [1, 4, 6], size=(4, 5))"
   ]
  },
  {
   "cell_type": "markdown",
   "metadata": {},
   "source": [
    "**Task:** Using the above sampling algorithm design a testing strategy which allocates a newly received batch of tests across the different counties at any time of the day. "
   ]
  },
  {
   "cell_type": "code",
   "execution_count": null,
   "metadata": {},
   "outputs": [],
   "source": [
    "def testing_strategy(n_tests, counties, population):\n",
    "    \"\"\"\n",
    "    Testing strategy for COVID-19 on a county level.\n",
    "\n",
    "    Parameters\n",
    "    ----------\n",
    "    n_tests : int\n",
    "        Number of available tests.\n",
    "    counties : array-like\n",
    "        Counties where tests can be distributed.\n",
    "    population : array-like\n",
    "        Population of each county.\n",
    "    \"\"\"\n",
    "    raise NotImplementedError # TODO"
   ]
  },
  {
   "cell_type": "markdown",
   "metadata": {},
   "source": [
    "**Task:** How would you argue that your sampling strategy is *unbiased*, meaning that it constitutes a representative sample of the German population?"
   ]
  },
  {
   "cell_type": "code",
   "execution_count": null,
   "metadata": {},
   "outputs": [],
   "source": []
  }
 ],
 "metadata": {
  "kernelspec": {
   "display_name": "Python 3",
   "language": "python",
   "name": "python3"
  },
  "language_info": {
   "codemirror_mode": {
    "name": "ipython",
    "version": 3
   },
   "file_extension": ".py",
   "mimetype": "text/x-python",
   "name": "python",
   "nbconvert_exporter": "python",
   "pygments_lexer": "ipython3",
   "version": "3.8.5"
  }
 },
 "nbformat": 4,
 "nbformat_minor": 4
}
