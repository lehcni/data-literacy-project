{
 "cells": [
  {
   "cell_type": "code",
   "execution_count": 1,
   "metadata": {
    "execution": {
     "iopub.execute_input": "2021-11-15T07:42:57.895901Z",
     "iopub.status.busy": "2021-11-15T07:42:57.895609Z",
     "iopub.status.idle": "2021-11-15T07:42:58.228332Z",
     "shell.execute_reply": "2021-11-15T07:42:58.227692Z",
     "shell.execute_reply.started": "2021-11-15T07:42:57.895833Z"
    },
    "tags": []
   },
   "outputs": [],
   "source": [
    "import ipywidgets as widgets\n",
    "import matplotlib as mpl\n",
    "import numpy as np\n",
    "from ipywidgets import fixed, interact, interact_manual, interactive\n",
    "from matplotlib import pyplot as plt\n",
    "from matplotlib import rc, ticker\n",
    "from scipy.stats import beta\n",
    "\n",
    "%config InlineBackend.figure_format = 'retina'\n",
    "\n",
    "TUdark = (55 / 255, 65 / 255, 74 / 255)\n",
    "# rc('font',**{'family':'sans-serif','sans-serif':['Helvetica']})\n",
    "rc(\"font\", **{\"family\": \"serif\", \"serif\": [\"Roboto Condensed\"]})\n",
    "rc(\"text\", **{\"color\": TUdark})\n",
    "rc(\"axes\", **{\"edgecolor\": TUdark, \"labelcolor\": TUdark})\n",
    "rc(\"xtick\", **{\"color\": TUdark})\n",
    "rc(\"ytick\", **{\"color\": TUdark})"
   ]
  },
  {
   "cell_type": "code",
   "execution_count": 19,
   "metadata": {
    "execution": {
     "iopub.execute_input": "2021-11-15T07:57:46.986122Z",
     "iopub.status.busy": "2021-11-15T07:57:46.985885Z",
     "iopub.status.idle": "2021-11-15T07:57:47.365853Z",
     "shell.execute_reply": "2021-11-15T07:57:47.364697Z",
     "shell.execute_reply.started": "2021-11-15T07:57:46.986095Z"
    },
    "tags": []
   },
   "outputs": [
    {
     "data": {
      "application/vnd.jupyter.widget-view+json": {
       "model_id": "79e2612eb7f342bd8f741632b2c762b8",
       "version_major": 2,
       "version_minor": 0
      },
      "text/plain": [
       "interactive(children=(IntSlider(value=0, description='positive', max=30), IntSlider(value=0, description='nega…"
      ]
     },
     "metadata": {},
     "output_type": "display_data"
    }
   ],
   "source": [
    "# @interact\n",
    "def f(positive, negative):\n",
    "    fig, ax = plt.subplots(1, 1, figsize=(7, 5),dpi=150)\n",
    "    pp = np.linspace(1e-2, 1 - 1e-2, 200)\n",
    "\n",
    "    ax.fill_between(pp,beta.pdf(pp, positive + 1, negative + 1), \"-\")\n",
    "    \n",
    "    for m in range(1,positive):\n",
    "        ax.fill_between(pp,pp**m,color='lightcoral',alpha=0.1)\n",
    "        \n",
    "    for n in range(1,negative):\n",
    "        ax.fill_between(pp,(1-pp)**n,color='palegreen',alpha=0.1)\n",
    "    \n",
    "    ax.set_xlabel(\"$\\pi$\")\n",
    "    ax.set_ylabel(\"$p(\\pi\\mid m,n)$\")\n",
    "    ax.text(0.9, 3, f\"+={positive},-={negative}\")\n",
    "    ax.set_ylim([0,5])\n",
    "    ax.set_xlim([0,1])\n",
    "    ax.xaxis.set_major_locator(ticker.MultipleLocator(0.2))\n",
    "    ax.xaxis.set_minor_locator(ticker.MultipleLocator(0.05))\n",
    "    ax.yaxis.set_major_locator(ticker.MultipleLocator(1))\n",
    "    ax.yaxis.set_major_formatter(ticker.ScalarFormatter())\n",
    "    ax.grid(which='major',axis='x',linewidth=0.5)\n",
    "    ax.grid(which='minor',axis='x',linewidth=0.1)\n",
    "\n",
    "interactive_plot = interactive(\n",
    "    f,\n",
    "    positive=widgets.IntSlider(min=0, max=30, step=1, value=0),\n",
    "    negative=widgets.IntSlider(min=0, max=30, step=1, value=0),\n",
    ")\n",
    "output = interactive_plot.children[-1]\n",
    "output.layout.height = \"600px\"\n",
    "interactive_plot"
   ]
  },
  {
   "cell_type": "code",
   "execution_count": null,
   "metadata": {},
   "outputs": [],
   "source": []
  }
 ],
 "metadata": {
  "kernelspec": {
   "display_name": "Python 3",
   "language": "python",
   "name": "python3"
  },
  "language_info": {
   "codemirror_mode": {
    "name": "ipython",
    "version": 3
   },
   "file_extension": ".py",
   "mimetype": "text/x-python",
   "name": "python",
   "nbconvert_exporter": "python",
   "pygments_lexer": "ipython3",
   "version": "3.8.5"
  }
 },
 "nbformat": 4,
 "nbformat_minor": 5
}
