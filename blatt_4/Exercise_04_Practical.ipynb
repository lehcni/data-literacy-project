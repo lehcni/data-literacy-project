{
 "cells": [
  {
   "cell_type": "markdown",
   "id": "dff38a83",
   "metadata": {},
   "source": [
    "# Data Literacy\n",
    "#### University of Tübingen, Winter Term 2021/22\n",
    "## Exercise Sheet 4\n",
    "&copy; 2021 Prof. Dr. Philipp Hennig & Nico Krämer & Emilia Magnani\n",
    "\n",
    "This sheet is **due on Monday, November 22, 2021 at 10am sharp (i.e. before the start of the lecture).**\n",
    "\n",
    "---\n",
    "\n",
    "## Data estimation\n",
    "Last week, we looked at maximum likelihood estimation for exit polls / election data in the context of the German general election in September 2021.\n",
    "This week, we will continue the analysis and augment the maximum likelihood estimators from last week with uncertainty quantification.\n",
    "\n"
   ]
  },
  {
   "cell_type": "code",
   "execution_count": null,
   "id": "5beb857e",
   "metadata": {},
   "outputs": [],
   "source": [
    "import pandas as pd\n",
    "import matplotlib.pyplot as plt\n",
    "import numpy as np\n",
    "\n",
    "# For the docstrings / type hints of the functions we provide.\n",
    "from typing import Union, Optional, Tuple"
   ]
  },
  {
   "cell_type": "markdown",
   "id": "4c85b650",
   "metadata": {},
   "source": [
    "The next snippet loads the data and extracts the results for one party, the true voting share of that party, and some other useful quantities."
   ]
  },
  {
   "cell_type": "code",
   "execution_count": null,
   "id": "db33fc76",
   "metadata": {},
   "outputs": [],
   "source": [
    "# Load the data\n",
    "data = pd.read_csv(\"data_slim.csv\")\n",
    "\n",
    "\n",
    "# Choose one party here.\n",
    "my_party = \"SPD\"\n",
    "\n",
    "# Grouped results\n",
    "result_my_party = int(data[data[\"Gruppenname\"] == my_party][\"Anzahl\"].sum())\n",
    "result_others = int(data[data[\"Gruppenname\"] != my_party][\"Anzahl\"].sum())\n",
    "\n",
    "# True proportion of votes that `my_party` received\n",
    "truth = result_my_party / (result_my_party + result_others)\n",
    "\n",
    "\n",
    "# All votes as an array of strings\n",
    "votes_all = np.concatenate(\n",
    "    (np.tile(my_party, result_my_party), np.tile(\"Not \" + my_party, result_others))\n",
    ")\n",
    "\n",
    "# An array of the relevant parties\n",
    "parties_all = np.array([my_party, \"Not \" + my_party])"
   ]
  },
  {
   "cell_type": "markdown",
   "id": "a47db611",
   "metadata": {},
   "source": [
    "The next snippet provides a function that simulates an exit poll. You can use your solution from last week's sheet instead."
   ]
  },
  {
   "cell_type": "code",
   "execution_count": null,
   "id": "e72c6a70",
   "metadata": {},
   "outputs": [],
   "source": [
    "def exit_poll(\n",
    "    rng: np.random.Generator,\n",
    "    *,\n",
    "    poll_size: int,\n",
    "    votes: np.ndarray,\n",
    "    parties: np.ndarray,\n",
    ") -> Tuple[np.ndarray, np.ndarray]:\n",
    "    \"\"\"Conduct an exit poll.\n",
    "\n",
    "    Parameters\n",
    "    ----------\n",
    "    rng\n",
    "        Random number generator.\n",
    "    poll_size\n",
    "        Poll size. How many people are polled.\n",
    "    votes\n",
    "        The true election results.\n",
    "    parties\n",
    "        List of parties.\n",
    "\n",
    "    Returns\n",
    "    -------\n",
    "    Exit poll counts and full exit poll.\n",
    "    \"\"\"\n",
    "    poll = rng.choice(votes, size=(poll_size,), replace=False)\n",
    "    poll_counts = count(poll=poll[None, :], parties=parties)\n",
    "    return poll_counts[0], poll\n",
    "\n",
    "\n",
    "def count(poll: np.ndarray, parties: np.ndarray) -> np.ndarray:\n",
    "    \"\"\"Count the number of occurences of a party in an exit poll.\"\"\"\n",
    "    return np.count_nonzero(poll[..., None] == parties[None, None, :], axis=1)\n",
    "\n",
    "\n",
    "# Some test that checks that the function works\n",
    "exit_poll_counts, _ = exit_poll(\n",
    "    rng, poll_size=100, votes=votes_all, parties=parties_all\n",
    ")"
   ]
  },
  {
   "cell_type": "markdown",
   "id": "a646cc1c",
   "metadata": {},
   "source": [
    "## Uncertainty quantification via Fisher information \n",
    "\n",
    "In an exit poll for an election with $K$ parties, the counts $N_k$ for the $k$th party follows a multinomial distribution, \n",
    "$$\n",
    "p(N_1, ..., N_K \\mid \\pi_1, .., \\pi_K) = \\frac{\\Gamma\\left(\\sum_k N_k + 1 \\right)}{\\prod_k \\Gamma(N_k + 1)} \\prod_{k=1}^K \\pi_k^{N_k},\n",
    "$$\n",
    "where $\\Gamma$ is the Gamma function.\n",
    "Let $|N| = \\sum_k N_k$. Given a sample $(N_1, ..., N_K)$ (an exit poll), the maximum likelihood estimate for $\\pi = (\\pi_1, ..., \\pi_K)$ is\n",
    "$$\n",
    "\\hat \\pi = (N_1 / |N|, ..., N_K / |N|).\n",
    "$$\n",
    "In the following, we will consider the case of $K=2$ (the counts for one party, and the counts for \"not\" this party, i.e., all the others).\n",
    "This reduces the multinomial distribution to a binomial distribution, with parameters $(\\pi, 1 - \\pi)$.\n",
    "You know from the lecture that the Fisher information for this setup is\n",
    "$$\n",
    "I(\\pi) = \\frac{|N|}{\\pi (\\pi - 1)}.\n",
    "$$\n",
    "Asymptotically, the error of the MLE is Gaussian,\n",
    "$ \\hat{\\pi} \\sim \\mathcal{N}\\left(\\hat{\\pi};\\pi_\\text{truth},  - I(\\hat \\pi)^{-1}\\right)$.\n",
    "\n",
    "**Task:**\n",
    "Use the formula for the Fisher information to write a function that computes the (asymptotic) covariance of the MLE. "
   ]
  },
  {
   "cell_type": "code",
   "execution_count": null,
   "id": "bb44b80a",
   "metadata": {},
   "outputs": [],
   "source": []
  },
  {
   "cell_type": "markdown",
   "id": "c76c600d",
   "metadata": {},
   "source": [
    "**Task:**\n",
    "Conduct an (artificial) exit poll, and evaluate how the covariance evolves for increasing exit poll sizes $|N|$.\n",
    "To this end, plot $f(x) = \\mathcal{N}(x; \\hat \\pi, -I(\\hat \\pi)^{-1})$ and the true likelihood function $p(N \\mid \\pi)$ for $|N| \\in \\{10, 20, 50 \\}$, and compare them to the true vote distribution $\\pi_\\text{truth}$.\n"
   ]
  },
  {
   "cell_type": "code",
   "execution_count": null,
   "id": "e725347f",
   "metadata": {},
   "outputs": [],
   "source": []
  },
  {
   "cell_type": "markdown",
   "id": "325be300",
   "metadata": {},
   "source": [
    "## Uncertainty quantification via bootstrap estimation\n",
    "\n",
    "While in the current setting, we can compute the Fisher information in closed form, often, this is not the case.\n",
    "An alternative is the bootstrap estimator, which resamples a given data set repeatedly to quantify the variability of an estimator.\n",
    "More precisely, we resample the conducted exit poll with replacement and recompute the estimator.\n",
    "\n",
    "\n",
    "Instead of the bootstrap estimator, one can also use a parametric bootstrap. There, instead of resampling the data with replacement, we use the knowledge that $(N_1, ..., N_K) \\sim p(N \\mid \\pi)$ follows a bi/multinomial distribution with parameter $\\pi=(\\pi_1, ..., \\pi_K)$. Then, we can parametrise the bi/multinomial distribution with the MLE, sample from $p(N \\mid \\hat \\pi)$ and recompute maximum likelihood estimates for each sample.\n",
    "\n",
    "\n",
    "**Task:**\n",
    "Implement the bootstrap estimator and the parametric bootstrap estimator for the MLE of $\\pi$. Choose a poll size of, e.g., $|N|=1000$. Repeat the plot from above, but replace the Gaussian bell with a histogram of bootstrapped MLEs. Choose the number of bootstrap samples appropriately."
   ]
  },
  {
   "cell_type": "code",
   "execution_count": null,
   "id": "b6499ed2",
   "metadata": {},
   "outputs": [],
   "source": []
  },
  {
   "cell_type": "markdown",
   "id": "59a199bd",
   "metadata": {},
   "source": [
    "We can use the bootstrap estimator on a wide range of estimates. For example, we can quantify the uncertainty over estimating $P(\\{\\text{My Party}\\} > \\text{threshold})$.\n",
    "For given exit poll $N=(N_1, ..., N_K)$, last week, we saw how to compute the probability of a party receiving more than a certain share of votes. Using the bootstrap (or parametric bootstrap), we can resample the data and recompute this probability for each sample.\n",
    "\n",
    "**Task:**\n",
    "Implement this resampling, and plot 50 bootstrap samples each of which describes the probability of SPD exceeding 0.22% of votes, for increasing exit poll counts $|N|$. How large does the poll have to be for us to be confident about SPD exceeding 0.22% of votes?"
   ]
  },
  {
   "cell_type": "code",
   "execution_count": null,
   "id": "370d4cde",
   "metadata": {},
   "outputs": [],
   "source": []
  },
  {
   "cell_type": "markdown",
   "id": "24731211",
   "metadata": {},
   "source": [
    "Instead of the samples, we can also measure the evolution of the standard deviation of the samples for increasing exit poll size.\n",
    "\n",
    "**Task:**\n",
    "Plot the standard deviation of the bootstrap samples from above against the exit poll size. Compare this to the error."
   ]
  },
  {
   "cell_type": "code",
   "execution_count": null,
   "id": "3f1fc91f",
   "metadata": {},
   "outputs": [],
   "source": []
  }
 ],
 "metadata": {
  "kernelspec": {
   "display_name": "Python 3",
   "language": "python",
   "name": "python3"
  },
  "language_info": {
   "codemirror_mode": {
    "name": "ipython",
    "version": 3
   },
   "file_extension": ".py",
   "mimetype": "text/x-python",
   "name": "python",
   "nbconvert_exporter": "python",
   "pygments_lexer": "ipython3",
   "version": "3.8.10"
  }
 },
 "nbformat": 4,
 "nbformat_minor": 5
}
