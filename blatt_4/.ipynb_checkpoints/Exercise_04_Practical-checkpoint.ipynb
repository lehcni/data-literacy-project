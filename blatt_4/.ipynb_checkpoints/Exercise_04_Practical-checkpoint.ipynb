{
 "cells": [
  {
   "cell_type": "markdown",
   "metadata": {},
   "source": [
    "# Data Literacy\n",
    "#### University of Tübingen, Winter Term 2021/22\n",
    "## Exercise Sheet 4\n",
    "&copy; 2021 Prof. Dr. Philipp Hennig & Nico Krämer & Emilia Magnani\n",
    "\n",
    "This sheet is **due on Monday, November 22, 2021 at 10am sharp (i.e. before the start of the lecture).**\n",
    "\n",
    "---\n",
    "\n",
    "## Data estimation\n",
    "Last week, we looked at maximum likelihood estimation for exit polls / election data in the context of the German general election in September 2021.\n",
    "This week, we will continue the analysis and augment the maximum likelihood estimators from last week with uncertainty quantification.\n",
    "\n"
   ]
  },
  {
   "cell_type": "code",
   "execution_count": 1,
   "metadata": {},
   "outputs": [],
   "source": [
    "import pandas as pd\n",
    "import matplotlib.pyplot as plt\n",
    "import numpy as np\n",
    "import scipy.stats\n",
    "\n",
    "# For the docstrings / type hints of the functions we provide.\n",
    "from typing import Union, Optional, Tuple"
   ]
  },
  {
   "cell_type": "markdown",
   "metadata": {},
   "source": [
    "The next snippet loads the data and extracts the results for one party, the true voting share of that party, and some other useful quantities."
   ]
  },
  {
   "cell_type": "code",
   "execution_count": 2,
   "metadata": {},
   "outputs": [],
   "source": [
    "# Load the data\n",
    "data = pd.read_csv(\"data_slim.csv\")\n",
    "\n",
    "\n",
    "# Choose one party here.\n",
    "my_party = \"SPD\"\n",
    "\n",
    "# Grouped results\n",
    "result_my_party = int(data[data[\"Gruppenname\"] == my_party][\"Anzahl\"].sum())\n",
    "result_others = int(data[data[\"Gruppenname\"] != my_party][\"Anzahl\"].sum())\n",
    "\n",
    "# True proportion of votes that `my_party` received\n",
    "truth = result_my_party / (result_my_party + result_others)\n",
    "\n",
    "\n",
    "# All votes as an array of strings\n",
    "votes_all = np.concatenate(\n",
    "    (np.tile(my_party, result_my_party), np.tile(\"Not \" + my_party, result_others))\n",
    ")\n",
    "\n",
    "# An array of the relevant parties\n",
    "parties_all = np.array([my_party, \"Not \" + my_party])"
   ]
  },
  {
   "cell_type": "code",
   "execution_count": 3,
   "metadata": {},
   "outputs": [
    {
     "data": {
      "text/plain": [
       "array(['SPD', 'SPD', 'SPD', ..., 'Not SPD', 'Not SPD', 'Not SPD'],\n",
       "      dtype='<U7')"
      ]
     },
     "execution_count": 3,
     "metadata": {},
     "output_type": "execute_result"
    }
   ],
   "source": [
    "votes_all"
   ]
  },
  {
   "cell_type": "markdown",
   "metadata": {},
   "source": [
    "The next snippet provides a function that simulates an exit poll. You can use your solution from last week's sheet instead."
   ]
  },
  {
   "cell_type": "code",
   "execution_count": 10,
   "metadata": {},
   "outputs": [],
   "source": [
    "def exit_poll(\n",
    "    rng: np.random.Generator,\n",
    "    *,\n",
    "    poll_size: int,\n",
    "    votes: np.ndarray,\n",
    "    parties: np.ndarray,\n",
    ") -> Tuple[np.ndarray, np.ndarray]:\n",
    "    \"\"\"Conduct an exit poll.\n",
    "\n",
    "    Parameters\n",
    "    ----------\n",
    "    rng\n",
    "        Random number generator.\n",
    "    poll_size\n",
    "        Poll size. How many people are polled.\n",
    "    votes\n",
    "        The true election results.\n",
    "    parties\n",
    "        List of parties.\n",
    "\n",
    "    Returns\n",
    "    -------\n",
    "    Exit poll counts and full exit poll.\n",
    "    \"\"\"\n",
    "    poll = rng.choice(votes, size=(poll_size,), replace=False)\n",
    "    poll_counts = count(poll=poll[None, :], parties=parties)\n",
    "    return poll_counts[0], poll\n",
    "\n",
    "\n",
    "def count(poll: np.ndarray, parties: np.ndarray) -> np.ndarray:\n",
    "    \"\"\"Count the number of occurences of a party in an exit poll.\"\"\"\n",
    "    return np.count_nonzero(poll[..., None] == parties[None, None, :], axis=1)\n",
    "\n",
    "rng = np.random.default_rng()\n",
    "# Some test that checks that the function works\n",
    "exit_poll_counts, _ = exit_poll(\n",
    "    rng, poll_size=1000, votes=votes_all, parties=parties_all\n",
    ")"
   ]
  },
  {
   "cell_type": "code",
   "execution_count": 21,
   "metadata": {},
   "outputs": [
    {
     "data": {
      "text/plain": [
       "261"
      ]
     },
     "execution_count": 21,
     "metadata": {},
     "output_type": "execute_result"
    }
   ],
   "source": [
    "exit_poll_counts[0]"
   ]
  },
  {
   "cell_type": "markdown",
   "metadata": {},
   "source": [
    "## Uncertainty quantification via Fisher information \n",
    "\n",
    "In an exit poll for an election with $K$ parties, the counts $N_k$ for the $k$th party follows a multinomial distribution, \n",
    "$$\n",
    "p(N_1, ..., N_K \\mid \\pi_1, .., \\pi_K) = \\frac{\\Gamma\\left(\\sum_k N_k + 1 \\right)}{\\prod_k \\Gamma(N_k + 1)} \\prod_{k=1}^K \\pi_k^{N_k},\n",
    "$$\n",
    "where $\\Gamma$ is the Gamma function.\n",
    "Let $|N| = \\sum_k N_k$. Given a sample $(N_1, ..., N_K)$ (an exit poll), the maximum likelihood estimate for $\\pi = (\\pi_1, ..., \\pi_K)$ is\n",
    "$$\n",
    "\\hat \\pi = (N_1 / |N|, ..., N_K / |N|).\n",
    "$$\n",
    "In the following, we will consider the case of $K=2$ (the counts for one party, and the counts for \"not\" this party, i.e., all the others).\n",
    "This reduces the multinomial distribution to a binomial distribution, with parameters $(\\pi, 1 - \\pi)$.\n",
    "You know from the lecture that the Fisher information for this setup is\n",
    "$$\n",
    "I(\\pi) = \\frac{|N|}{\\pi (\\pi - 1)}.\n",
    "$$\n",
    "Asymptotically, the error of the MLE is Gaussian,\n",
    "$ \\hat{\\pi} \\sim \\mathcal{N}\\left(\\hat{\\pi};\\pi_\\text{truth},  - I(\\hat \\pi)^{-1}\\right)$.\n",
    "\n",
    "**Task:**\n",
    "Use the formula for the Fisher information to write a function that computes the (asymptotic) covariance of the MLE. "
   ]
  },
  {
   "cell_type": "code",
   "execution_count": 6,
   "metadata": {},
   "outputs": [],
   "source": [
    "def compute_params(exit_poll_counts):\n",
    "\n",
    "    N = exit_poll_counts.sum()\n",
    "    pi_hat = exit_poll_counts[0] / N \n",
    "\n",
    "    I_pi_hat = N / (pi_hat * (pi_hat-1))\n",
    "    cov = -(1/I_pi_hat)\n",
    "\n",
    "    return pi_hat, cov  "
   ]
  },
  {
   "cell_type": "code",
   "execution_count": 7,
   "metadata": {},
   "outputs": [
    {
     "data": {
      "text/plain": [
       "(0.3, 0.0021)"
      ]
     },
     "execution_count": 7,
     "metadata": {},
     "output_type": "execute_result"
    }
   ],
   "source": [
    "compute_params(exit_poll_counts)"
   ]
  },
  {
   "cell_type": "markdown",
   "metadata": {},
   "source": [
    "**Task:**\n",
    "Conduct an (artificial) exit poll, and evaluate how the covariance evolves for increasing exit poll sizes $|N|$.\n",
    "To this end, plot $f(x) = \\mathcal{N}(x; \\hat \\pi, -I(\\hat \\pi)^{-1})$ and the true likelihood function $p(N \\mid \\pi)$ for $|N| \\in \\{10, 20, 50 \\}$, and compare them to the true vote distribution $\\pi_\\text{truth}$.\n"
   ]
  },
  {
   "cell_type": "code",
   "execution_count": 8,
   "metadata": {},
   "outputs": [],
   "source": [
    "from scipy.special import logsumexp\n",
    "\n",
    "def calc_likelihood(exit_poll_counts, p_party):\n",
    "\n",
    "    ll = (p_party**exit_poll_counts[0]) *  ((1-p_party)**exit_poll_counts[1])\n",
    "    #norm = logsumexp(ll) TODO\n",
    "    norm = ll.sum()\n",
    "\n",
    "    return ll/norm"
   ]
  },
  {
   "cell_type": "code",
   "execution_count": 9,
   "metadata": {},
   "outputs": [
    {
     "data": {
      "image/png": "[encoded data removed]",
      "text/plain": [
       "<Figure size 1440x360 with 3 Axes>"
      ]
     },
     "metadata": {
      "needs_background": "light"
     },
     "output_type": "display_data"
    }
   ],
   "source": [
    "N = [10, 20, 50]\n",
    "\n",
    "n_plots = 3\n",
    "\n",
    "probs = np.arange(0.005, 0.995, 0.005)\n",
    "#x = probs * 100\n",
    "\n",
    "fig, ax = plt.subplots(1, n_plots, figsize=(20, 5))\n",
    "\n",
    "for i in range(n_plots):\n",
    "        current_N = N[i]\n",
    "\n",
    "        exit_poll_counts, _ = exit_poll(rng, poll_size=current_N, votes=votes_all, parties=parties_all)\n",
    "        pi_hat, cov = compute_params(exit_poll_counts)\n",
    "        ax[i].plot(probs, scipy.stats.norm.pdf(probs, pi_hat, np.sqrt(cov)), color='pink', )\n",
    "        ax[i].plot(probs, calc_likelihood(exit_poll_counts, probs)*100, color='darkblue', label='likelihood')    #TODO\n",
    "        ax[i].vlines(truth, 0, 5, color='darkgrey', label='ground truth')\n",
    "\n",
    "plt.show()"
   ]
  },
  {
   "cell_type": "markdown",
   "metadata": {},
   "source": [
    "## Uncertainty quantification via bootstrap estimation\n",
    "\n",
    "While in the current setting, we can compute the Fisher information in closed form, often, this is not the case.\n",
    "An alternative is the bootstrap estimator, which resamples a given data set repeatedly to quantify the variability of an estimator.\n",
    "More precisely, we resample the conducted exit poll with replacement and recompute the estimator.\n",
    "\n",
    "\n",
    "Instead of the bootstrap estimator, one can also use a parametric bootstrap. There, instead of resampling the data with replacement, we use the knowledge that $(N_1, ..., N_K) \\sim p(N \\mid \\pi)$ follows a bi/multinomial distribution with parameter $\\pi=(\\pi_1, ..., \\pi_K)$. Then, we can parametrise the bi/multinomial distribution with the MLE, sample from $p(N \\mid \\hat \\pi)$ and recompute maximum likelihood estimates for each sample.\n",
    "\n",
    "\n",
    "**Task:**\n",
    "Implement the bootstrap estimator and the parametric bootstrap estimator for the MLE of $\\pi$. Choose a poll size of, e.g., $|N|=1000$. Repeat the plot from above, but replace the Gaussian bell with a histogram of bootstrapped MLEs. Choose the number of bootstrap samples appropriately."
   ]
  },
  {
   "cell_type": "code",
   "execution_count": 86,
   "metadata": {},
   "outputs": [],
   "source": [
    "def compute_bootstrap(exit_poll_counts,N_bootstrap):\n",
    "    N_sample = exit_poll_counts.sum()\n",
    "    rng = np.random.default_rng()\n",
    "\n",
    "    m_party_bootstrap = (rng.choice(N_sample, size=(N_sample, N_bootstrap))\n",
    "                     <= exit_poll_counts[0]).sum(axis=0)\n",
    "\n",
    "    f_party_bootstrap = m_party_bootstrap / N_sample\n",
    "    return f_party_bootstrap\n"
   ]
  },
  {
   "cell_type": "code",
   "execution_count": 84,
   "metadata": {},
   "outputs": [],
   "source": [
    "def compute_parametric_bootstrap(exit_poll_counts,N_bootstrap):\n",
    "    N_sample = exit_poll_counts.sum()\n",
    "    mle_1 = exit_poll_counts[0]/N_sample\n",
    "    binomial = scipy.stats.binom(N_sample, mle_1)\n",
    "\n",
    "    m_party_param_bootstrap = binomial.rvs(size=N_boostrap)\n",
    "\n",
    "    f_party_param_bootstrap = m_party_param_bootstrap / N_sample\n",
    "    return f_party_param_bootstrap"
   ]
  },
  {
   "cell_type": "code",
   "execution_count": 106,
   "metadata": {},
   "outputs": [
    {
     "data": {
      "image/png": "[encoded data removed]",
      "text/plain": [
       "<Figure size 1440x360 with 6 Axes>"
      ]
     },
     "metadata": {
      "needs_background": "light"
     },
     "output_type": "display_data"
    }
   ],
   "source": [
    "N = [100, 500, 1000]\n",
    "N_bootstrap = 1000\n",
    "\n",
    "n_x_plots = 3\n",
    "n_y_plots = 2\n",
    "\n",
    "fig, ax = plt.subplots(n_y_plots, n_x_plots, figsize=(20, 5))\n",
    "\n",
    "for j in range(n_x_plots):\n",
    "    current_N = N[j]\n",
    "\n",
    "    exit_poll_counts, _ = exit_poll(rng, poll_size=current_N, votes=votes_all, parties=parties_all)\n",
    "    f_bootstrap = compute_bootstrap(exit_poll_counts, N_bootstrap)\n",
    "    f_param_bootstrap = compute_parametric_bootstrap(exit_poll_counts, N_bootstrap)\n",
    "    \n",
    "    ax[0,j].hist(f_bootstrap, bins=30, color='pink')\n",
    "    ax[0,1].set_title('bootstrap')\n",
    "    ax[1,j].hist(f_param_bootstrap, bins=30, color='purple')  \n",
    "    ax[1,1].set_title('parametric bootstrap')\n",
    "    ax[0,j].vlines(truth, 0, 100, color='black', label='ground truth')\n",
    "    ax[1,j].vlines(truth, 0, 1000, color='black', label='ground truth')\n",
    "plt.legend()\n",
    "plt.tight_layout()\n",
    "plt.show()"
   ]
  },
  {
   "cell_type": "markdown",
   "metadata": {},
   "source": [
    "We can use the bootstrap estimator on a wide range of estimates. For example, we can quantify the uncertainty over estimating $P(\\{\\text{My Party}\\} > \\text{threshold})$.\n",
    "For given exit poll $N=(N_1, ..., N_K)$, last week, we saw how to compute the probability of a party receiving more than a certain share of votes. Using the bootstrap (or parametric bootstrap), we can resample the data and recompute this probability for each sample.\n",
    "\n",
    "**Task:**\n",
    "Implement this resampling, and plot 50 bootstrap samples each of which describes the probability of SPD exceeding 0.22% of votes, for increasing exit poll counts $|N|$. How large does the poll have to be for us to be confident about SPD exceeding 0.22% of votes?"
   ]
  },
  {
   "cell_type": "code",
   "execution_count": null,
   "metadata": {},
   "outputs": [],
   "source": []
  },
  {
   "cell_type": "markdown",
   "metadata": {},
   "source": [
    "Instead of the samples, we can also measure the evolution of the standard deviation of the samples for increasing exit poll size.\n",
    "\n",
    "**Task:**\n",
    "Plot the standard deviation of the bootstrap samples from above against the exit poll size. Compare this to the error."
   ]
  },
  {
   "cell_type": "code",
   "execution_count": null,
   "metadata": {},
   "outputs": [],
   "source": []
  }
 ],
 "metadata": {
  "kernelspec": {
   "display_name": "Python 3",
   "language": "python",
   "name": "python3"
  },
  "language_info": {
   "codemirror_mode": {
    "name": "ipython",
    "version": 3
   },
   "file_extension": ".py",
   "mimetype": "text/x-python",
   "name": "python",
   "nbconvert_exporter": "python",
   "pygments_lexer": "ipython3",
   "version": "3.8.5"
  }
 },
 "nbformat": 4,
 "nbformat_minor": 5
}
